{
 "cells": [
  {
   "cell_type": "markdown",
   "id": "1d54e51f",
   "metadata": {},
   "source": [
    "# Specify device"
   ]
  },
  {
   "cell_type": "code",
   "execution_count": 1,
   "id": "949ed2c7",
   "metadata": {},
   "outputs": [],
   "source": [
    "import os\n",
    "os.environ[\"CUDA_DEVICE_ORDER\"]=\"PCI_BUS_ID\"\n",
    "os.environ[\"CUDA_VISIBLE_DEVICES\"] = \"0\" \n",
    "# os.environ[\"CUDA_VISIBLE_DEVICES\"] = \"\"  # For CPU inference"
   ]
  },
  {
   "cell_type": "code",
   "execution_count": 2,
   "id": "8559d627",
   "metadata": {},
   "outputs": [],
   "source": [
    "import os\n",
    "import torch\n",
    "import sys\n",
    "import warnings\n",
    "from datetime import datetime\n",
    "from matplotlib import pyplot as plt\n",
    "warnings.filterwarnings('ignore')\n",
    "\n",
    "# Nomeroff-Net path\n",
    "NOMEROFF_NET_DIR = os.path.abspath('../../../../')\n",
    "sys.path.append(NOMEROFF_NET_DIR)"
   ]
  },
  {
   "cell_type": "markdown",
   "id": "dfcb7a03",
   "metadata": {},
   "source": [
    "# Download latest dataset or choise your"
   ]
  },
  {
   "cell_type": "code",
   "execution_count": 3,
   "id": "edc1fb74",
   "metadata": {},
   "outputs": [],
   "source": [
    "from nomeroff_net.tools import modelhub\n",
    "\n",
    "# or local path dataset\n",
    "PATH_TO_DATASET = os.path.join(NOMEROFF_NET_DIR, \"./data/dataset/Detector/autoria_numberplate_dataset_example/\")"
   ]
  },
  {
   "cell_type": "code",
   "execution_count": 4,
   "id": "8f24ddf2",
   "metadata": {},
   "outputs": [
    {
     "data": {
      "text/plain": [
       "'/mnt/var/www/projects_computer_vision/nomeroff-net/./data/dataset/Detector/autoria_numberplate_dataset_example/'"
      ]
     },
     "execution_count": 4,
     "metadata": {},
     "output_type": "execute_result"
    }
   ],
   "source": [
    "PATH_TO_DATASET"
   ]
  },
  {
   "cell_type": "code",
   "execution_count": 5,
   "id": "a4105f16",
   "metadata": {},
   "outputs": [],
   "source": [
    "DATASET_NAME = \"orientation\"\n",
    "VERSION = f\"{datetime.now().strftime('%Y_%m_%d')}_pytorch_lightning\"\n",
    "\n",
    "RESULT_PATH = os.path.join(NOMEROFF_NET_DIR, \"./data/models/\", 'numberplate_{}_{}.ckpt'.format(DATASET_NAME, VERSION))"
   ]
  },
  {
   "cell_type": "code",
   "execution_count": 6,
   "id": "38bdfa96",
   "metadata": {},
   "outputs": [],
   "source": [
    "from nomeroff_net.pipes.number_plate_classificators.orientation_detector import OrientationDetector"
   ]
  },
  {
   "cell_type": "code",
   "execution_count": 7,
   "id": "7f5c1597",
   "metadata": {},
   "outputs": [],
   "source": [
    "class MyNpOrientation(OrientationDetector):\n",
    "    def __init__(self):\n",
    "        OrientationDetector.__init__(self)\n",
    "\n",
    "        self.epochs           = 2\n",
    "        self.batch_size       = 2\n",
    "        \n",
    "        # count gpu for train\n",
    "        self.gpus = 0 #torch.cuda.device_count()\n",
    "        \n",
    "        self.height         = 100\n",
    "        self.width         = 300\n",
    "        \n"
   ]
  },
  {
   "cell_type": "code",
   "execution_count": 8,
   "id": "4531d26f",
   "metadata": {},
   "outputs": [
    {
     "name": "stderr",
     "output_type": "stream",
     "text": [
      "100%|███████████████████████████████████████████████████████████████████████████████████████████████████████████████████████████████████████████████████████████████████████████████████████████████████████████████████████████████████████████████████████████████████████████████████████████████████████| 1/1 [00:00<00:00, 8962.19it/s]\n",
      "100%|███████████████████████████████████████████████████████████████████████████████████████████████████████████████████████████████████████████████████████████████████████████████████████████████████████████████████████████████████████████████████████████████████████████████████████████████████████| 1/1 [00:00<00:00, 2651.27it/s]\n",
      "100%|██████████████████████████████████████████████████████████████████████████████████████████████████████████████████████████████████████████████████████████████████████████████████████████████████████████████████████████████████████████████████████████████████████████████████████████████████████| 1/1 [00:00<00:00, 10330.80it/s]\n"
     ]
    }
   ],
   "source": [
    "# initialize region detector.\n",
    "npClassificator = MyNpOrientation()\n",
    "npClassificator.prepare(PATH_TO_DATASET, verbose=1, num_workers=1)"
   ]
  },
  {
   "cell_type": "code",
   "execution_count": 9,
   "id": "45da4b21",
   "metadata": {},
   "outputs": [
    {
     "name": "stderr",
     "output_type": "stream",
     "text": [
      "GPU available: False, used: False\n",
      "TPU available: False, using: 0 TPU cores\n",
      "IPU available: False, using: 0 IPUs\n",
      "HPU available: False, using: 0 HPUs\n",
      "\n",
      "  | Name  | Type         | Params\n",
      "---------------------------------------\n",
      "0 | model | EfficientNet | 20.2 M\n",
      "---------------------------------------\n",
      "20.2 M    Trainable params\n",
      "0         Non-trainable params\n",
      "20.2 M    Total params\n",
      "80.725    Total estimated model params size (MB)\n"
     ]
    },
    {
     "data": {
      "application/json": {
       "ascii": false,
       "bar_format": null,
       "colour": null,
       "elapsed": 0.004835605621337891,
       "initial": 0,
       "n": 0,
       "ncols": 332,
       "nrows": 5,
       "postfix": null,
       "prefix": "Sanity Checking",
       "rate": null,
       "total": null,
       "unit": "it",
       "unit_divisor": 1000,
       "unit_scale": false
      },
      "application/vnd.jupyter.widget-view+json": {
       "model_id": "",
       "version_major": 2,
       "version_minor": 0
      },
      "text/plain": [
       "Sanity Checking: 0it [00:00, ?it/s]"
      ]
     },
     "metadata": {},
     "output_type": "display_data"
    },
    {
     "name": "stdout",
     "output_type": "stream",
     "text": [
      "tensor([0.3361, 0.3355, 0.3284])\n",
      "tensor([0.3361, 0.3355, 0.3284])\n"
     ]
    },
    {
     "data": {
      "application/json": {
       "ascii": false,
       "bar_format": null,
       "colour": null,
       "elapsed": 0.009063243865966797,
       "initial": 0,
       "n": 0,
       "ncols": 332,
       "nrows": 5,
       "postfix": null,
       "prefix": "Training",
       "rate": null,
       "total": null,
       "unit": "it",
       "unit_divisor": 1000,
       "unit_scale": false
      },
      "application/vnd.jupyter.widget-view+json": {
       "model_id": "9667d21563a24a8c8e0cfc59b55ac258",
       "version_major": 2,
       "version_minor": 0
      },
      "text/plain": [
       "Training: 0it [00:00, ?it/s]"
      ]
     },
     "metadata": {},
     "output_type": "display_data"
    },
    {
     "name": "stdout",
     "output_type": "stream",
     "text": [
      "tensor([0.3140, 0.3546, 0.3314], grad_fn=<SelectBackward0>)\n",
      "tensor([0.3111, 0.3867, 0.3022], grad_fn=<SelectBackward0>)\n"
     ]
    },
    {
     "data": {
      "application/json": {
       "ascii": false,
       "bar_format": null,
       "colour": null,
       "elapsed": 0.00655364990234375,
       "initial": 0,
       "n": 0,
       "ncols": 332,
       "nrows": 5,
       "postfix": null,
       "prefix": "Validation",
       "rate": null,
       "total": null,
       "unit": "it",
       "unit_divisor": 1000,
       "unit_scale": false
      },
      "application/vnd.jupyter.widget-view+json": {
       "model_id": "",
       "version_major": 2,
       "version_minor": 0
      },
      "text/plain": [
       "Validation: 0it [00:00, ?it/s]"
      ]
     },
     "metadata": {},
     "output_type": "display_data"
    },
    {
     "name": "stdout",
     "output_type": "stream",
     "text": [
      "tensor([0.3382, 0.3368, 0.3250])\n",
      "tensor([0.3382, 0.3368, 0.3250])\n",
      "tensor([0.3157, 0.3478, 0.3365], grad_fn=<SelectBackward0>)\n",
      "tensor([0.3366, 0.3648, 0.2986], grad_fn=<SelectBackward0>)\n"
     ]
    },
    {
     "data": {
      "application/json": {
       "ascii": false,
       "bar_format": null,
       "colour": null,
       "elapsed": 0.00669097900390625,
       "initial": 0,
       "n": 0,
       "ncols": 332,
       "nrows": 5,
       "postfix": null,
       "prefix": "Validation",
       "rate": null,
       "total": null,
       "unit": "it",
       "unit_divisor": 1000,
       "unit_scale": false
      },
      "application/vnd.jupyter.widget-view+json": {
       "model_id": "",
       "version_major": 2,
       "version_minor": 0
      },
      "text/plain": [
       "Validation: 0it [00:00, ?it/s]"
      ]
     },
     "metadata": {},
     "output_type": "display_data"
    },
    {
     "name": "stdout",
     "output_type": "stream",
     "text": [
      "tensor([0.3403, 0.3367, 0.3230])\n",
      "tensor([0.3403, 0.3367, 0.3230])\n"
     ]
    },
    {
     "name": "stderr",
     "output_type": "stream",
     "text": [
      "`Trainer.fit` stopped: `max_epochs=2` reached.\n"
     ]
    },
    {
     "name": "stdout",
     "output_type": "stream",
     "text": [
      "[INFO] best model path \n"
     ]
    },
    {
     "ename": "ValueError",
     "evalue": "An invalid dataloader was passed to `Trainer.test(dataloaders=...)`. Either pass the dataloader to the `.test()` method OR implement `def test_dataloader(self):` in your LightningModule/LightningDataModule.",
     "output_type": "error",
     "traceback": [
      "\u001B[0;31m---------------------------------------------------------------------------\u001B[0m",
      "\u001B[0;31mValueError\u001B[0m                                Traceback (most recent call last)",
      "Cell \u001B[0;32mIn[9], line 2\u001B[0m\n\u001B[1;32m      1\u001B[0m \u001B[38;5;66;03m# train\u001B[39;00m\n\u001B[0;32m----> 2\u001B[0m model \u001B[38;5;241m=\u001B[39m \u001B[43mnpClassificator\u001B[49m\u001B[38;5;241;43m.\u001B[39;49m\u001B[43mtrain\u001B[49m\u001B[43m(\u001B[49m\u001B[43m)\u001B[49m\n",
      "File \u001B[0;32m/mnt/var/www/projects_computer_vision/nomeroff-net/nomeroff_net/pipes/number_plate_classificators/orientation_detector.py:156\u001B[0m, in \u001B[0;36mOrientationDetector.train\u001B[0;34m(self, log_dir)\u001B[0m\n\u001B[1;32m    154\u001B[0m \u001B[38;5;28mself\u001B[39m\u001B[38;5;241m.\u001B[39mtrainer\u001B[38;5;241m.\u001B[39mfit(\u001B[38;5;28mself\u001B[39m\u001B[38;5;241m.\u001B[39mmodel, \u001B[38;5;28mself\u001B[39m\u001B[38;5;241m.\u001B[39mdm)\n\u001B[1;32m    155\u001B[0m \u001B[38;5;28mprint\u001B[39m(\u001B[38;5;124m\"\u001B[39m\u001B[38;5;124m[INFO] best model path\u001B[39m\u001B[38;5;124m\"\u001B[39m, checkpoint_callback\u001B[38;5;241m.\u001B[39mbest_model_path)\n\u001B[0;32m--> 156\u001B[0m \u001B[38;5;28;43mself\u001B[39;49m\u001B[38;5;241;43m.\u001B[39;49m\u001B[43mtrainer\u001B[49m\u001B[38;5;241;43m.\u001B[39;49m\u001B[43mtest\u001B[49m\u001B[43m(\u001B[49m\u001B[43m)\u001B[49m\n\u001B[1;32m    157\u001B[0m \u001B[38;5;28;01mreturn\u001B[39;00m \u001B[38;5;28mself\u001B[39m\u001B[38;5;241m.\u001B[39mmodel\n",
      "File \u001B[0;32m~/.local/lib/python3.9/site-packages/pytorch_lightning/trainer/trainer.py:780\u001B[0m, in \u001B[0;36mTrainer.test\u001B[0;34m(self, model, dataloaders, ckpt_path, verbose, datamodule)\u001B[0m\n\u001B[1;32m    778\u001B[0m     \u001B[38;5;28;01mraise\u001B[39;00m \u001B[38;5;167;01mTypeError\u001B[39;00m(\u001B[38;5;124mf\u001B[39m\u001B[38;5;124m\"\u001B[39m\u001B[38;5;124m`Trainer.test()` requires a `LightningModule`, got: \u001B[39m\u001B[38;5;132;01m{\u001B[39;00mmodel\u001B[38;5;241m.\u001B[39m\u001B[38;5;18m__class__\u001B[39m\u001B[38;5;241m.\u001B[39m\u001B[38;5;18m__qualname__\u001B[39m\u001B[38;5;132;01m}\u001B[39;00m\u001B[38;5;124m\"\u001B[39m)\n\u001B[1;32m    779\u001B[0m \u001B[38;5;28mself\u001B[39m\u001B[38;5;241m.\u001B[39mstrategy\u001B[38;5;241m.\u001B[39m_lightning_module \u001B[38;5;241m=\u001B[39m model \u001B[38;5;129;01mor\u001B[39;00m \u001B[38;5;28mself\u001B[39m\u001B[38;5;241m.\u001B[39mlightning_module\n\u001B[0;32m--> 780\u001B[0m \u001B[38;5;28;01mreturn\u001B[39;00m \u001B[43mcall\u001B[49m\u001B[38;5;241;43m.\u001B[39;49m\u001B[43m_call_and_handle_interrupt\u001B[49m\u001B[43m(\u001B[49m\n\u001B[1;32m    781\u001B[0m \u001B[43m    \u001B[49m\u001B[38;5;28;43mself\u001B[39;49m\u001B[43m,\u001B[49m\u001B[43m \u001B[49m\u001B[38;5;28;43mself\u001B[39;49m\u001B[38;5;241;43m.\u001B[39;49m\u001B[43m_test_impl\u001B[49m\u001B[43m,\u001B[49m\u001B[43m \u001B[49m\u001B[43mmodel\u001B[49m\u001B[43m,\u001B[49m\u001B[43m \u001B[49m\u001B[43mdataloaders\u001B[49m\u001B[43m,\u001B[49m\u001B[43m \u001B[49m\u001B[43mckpt_path\u001B[49m\u001B[43m,\u001B[49m\u001B[43m \u001B[49m\u001B[43mverbose\u001B[49m\u001B[43m,\u001B[49m\u001B[43m \u001B[49m\u001B[43mdatamodule\u001B[49m\n\u001B[1;32m    782\u001B[0m \u001B[43m\u001B[49m\u001B[43m)\u001B[49m\n",
      "File \u001B[0;32m~/.local/lib/python3.9/site-packages/pytorch_lightning/trainer/call.py:38\u001B[0m, in \u001B[0;36m_call_and_handle_interrupt\u001B[0;34m(trainer, trainer_fn, *args, **kwargs)\u001B[0m\n\u001B[1;32m     36\u001B[0m         \u001B[38;5;28;01mreturn\u001B[39;00m trainer\u001B[38;5;241m.\u001B[39mstrategy\u001B[38;5;241m.\u001B[39mlauncher\u001B[38;5;241m.\u001B[39mlaunch(trainer_fn, \u001B[38;5;241m*\u001B[39margs, trainer\u001B[38;5;241m=\u001B[39mtrainer, \u001B[38;5;241m*\u001B[39m\u001B[38;5;241m*\u001B[39mkwargs)\n\u001B[1;32m     37\u001B[0m     \u001B[38;5;28;01melse\u001B[39;00m:\n\u001B[0;32m---> 38\u001B[0m         \u001B[38;5;28;01mreturn\u001B[39;00m \u001B[43mtrainer_fn\u001B[49m\u001B[43m(\u001B[49m\u001B[38;5;241;43m*\u001B[39;49m\u001B[43margs\u001B[49m\u001B[43m,\u001B[49m\u001B[43m \u001B[49m\u001B[38;5;241;43m*\u001B[39;49m\u001B[38;5;241;43m*\u001B[39;49m\u001B[43mkwargs\u001B[49m\u001B[43m)\u001B[49m\n\u001B[1;32m     40\u001B[0m \u001B[38;5;28;01mexcept\u001B[39;00m _TunerExitException:\n\u001B[1;32m     41\u001B[0m     trainer\u001B[38;5;241m.\u001B[39m_call_teardown_hook()\n",
      "File \u001B[0;32m~/.local/lib/python3.9/site-packages/pytorch_lightning/trainer/trainer.py:820\u001B[0m, in \u001B[0;36mTrainer._test_impl\u001B[0;34m(self, model, dataloaders, ckpt_path, verbose, datamodule)\u001B[0m\n\u001B[1;32m    817\u001B[0m \u001B[38;5;28mself\u001B[39m\u001B[38;5;241m.\u001B[39mtest_loop\u001B[38;5;241m.\u001B[39mverbose \u001B[38;5;241m=\u001B[39m verbose\n\u001B[1;32m    819\u001B[0m \u001B[38;5;66;03m# links data to the trainer\u001B[39;00m\n\u001B[0;32m--> 820\u001B[0m \u001B[38;5;28;43mself\u001B[39;49m\u001B[38;5;241;43m.\u001B[39;49m\u001B[43m_data_connector\u001B[49m\u001B[38;5;241;43m.\u001B[39;49m\u001B[43mattach_data\u001B[49m\u001B[43m(\u001B[49m\u001B[43mmodel\u001B[49m\u001B[43m,\u001B[49m\u001B[43m \u001B[49m\u001B[43mtest_dataloaders\u001B[49m\u001B[38;5;241;43m=\u001B[39;49m\u001B[43mdataloaders\u001B[49m\u001B[43m,\u001B[49m\u001B[43m \u001B[49m\u001B[43mdatamodule\u001B[49m\u001B[38;5;241;43m=\u001B[39;49m\u001B[43mdatamodule\u001B[49m\u001B[43m)\u001B[49m\n\u001B[1;32m    822\u001B[0m \u001B[38;5;28mself\u001B[39m\u001B[38;5;241m.\u001B[39m_ckpt_path \u001B[38;5;241m=\u001B[39m \u001B[38;5;28mself\u001B[39m\u001B[38;5;241m.\u001B[39m_checkpoint_connector\u001B[38;5;241m.\u001B[39m_set_ckpt_path(\n\u001B[1;32m    823\u001B[0m     \u001B[38;5;28mself\u001B[39m\u001B[38;5;241m.\u001B[39mstate\u001B[38;5;241m.\u001B[39mfn, ckpt_path, model_provided\u001B[38;5;241m=\u001B[39mmodel_provided, model_connected\u001B[38;5;241m=\u001B[39m\u001B[38;5;28mself\u001B[39m\u001B[38;5;241m.\u001B[39mlightning_module \u001B[38;5;129;01mis\u001B[39;00m \u001B[38;5;129;01mnot\u001B[39;00m \u001B[38;5;28;01mNone\u001B[39;00m\n\u001B[1;32m    824\u001B[0m )\n\u001B[1;32m    826\u001B[0m \u001B[38;5;28mself\u001B[39m\u001B[38;5;241m.\u001B[39m_tested_ckpt_path \u001B[38;5;241m=\u001B[39m \u001B[38;5;28mself\u001B[39m\u001B[38;5;241m.\u001B[39mckpt_path  \u001B[38;5;66;03m# TODO: remove in v1.8\u001B[39;00m\n",
      "File \u001B[0;32m~/.local/lib/python3.9/site-packages/pytorch_lightning/trainer/connectors/data_connector.py:144\u001B[0m, in \u001B[0;36mDataConnector.attach_data\u001B[0;34m(self, model, train_dataloaders, val_dataloaders, test_dataloaders, predict_dataloaders, datamodule)\u001B[0m\n\u001B[1;32m    142\u001B[0m     _check_dataloader_none(val_dataloaders, \u001B[38;5;28mself\u001B[39m\u001B[38;5;241m.\u001B[39m_val_dataloader_source, \u001B[38;5;28mself\u001B[39m\u001B[38;5;241m.\u001B[39mtrainer\u001B[38;5;241m.\u001B[39mstate\u001B[38;5;241m.\u001B[39mfn)\n\u001B[1;32m    143\u001B[0m \u001B[38;5;28;01melif\u001B[39;00m \u001B[38;5;28mself\u001B[39m\u001B[38;5;241m.\u001B[39mtrainer\u001B[38;5;241m.\u001B[39mstate\u001B[38;5;241m.\u001B[39mfn \u001B[38;5;241m==\u001B[39m TrainerFn\u001B[38;5;241m.\u001B[39mTESTING:\n\u001B[0;32m--> 144\u001B[0m     \u001B[43m_check_dataloader_none\u001B[49m\u001B[43m(\u001B[49m\u001B[43mtest_dataloaders\u001B[49m\u001B[43m,\u001B[49m\u001B[43m \u001B[49m\u001B[38;5;28;43mself\u001B[39;49m\u001B[38;5;241;43m.\u001B[39;49m\u001B[43m_test_dataloader_source\u001B[49m\u001B[43m,\u001B[49m\u001B[43m \u001B[49m\u001B[38;5;28;43mself\u001B[39;49m\u001B[38;5;241;43m.\u001B[39;49m\u001B[43mtrainer\u001B[49m\u001B[38;5;241;43m.\u001B[39;49m\u001B[43mstate\u001B[49m\u001B[38;5;241;43m.\u001B[39;49m\u001B[43mfn\u001B[49m\u001B[43m)\u001B[49m\n\u001B[1;32m    145\u001B[0m \u001B[38;5;28;01melif\u001B[39;00m \u001B[38;5;28mself\u001B[39m\u001B[38;5;241m.\u001B[39mtrainer\u001B[38;5;241m.\u001B[39mstate\u001B[38;5;241m.\u001B[39mfn \u001B[38;5;241m==\u001B[39m TrainerFn\u001B[38;5;241m.\u001B[39mPREDICTING:\n\u001B[1;32m    146\u001B[0m     _check_dataloader_none(predict_dataloaders, \u001B[38;5;28mself\u001B[39m\u001B[38;5;241m.\u001B[39m_predict_dataloader_source, \u001B[38;5;28mself\u001B[39m\u001B[38;5;241m.\u001B[39mtrainer\u001B[38;5;241m.\u001B[39mstate\u001B[38;5;241m.\u001B[39mfn)\n",
      "File \u001B[0;32m~/.local/lib/python3.9/site-packages/pytorch_lightning/trainer/connectors/data_connector.py:598\u001B[0m, in \u001B[0;36m_check_dataloader_none\u001B[0;34m(dataloader, dataloader_source, trainer_fn)\u001B[0m\n\u001B[1;32m    596\u001B[0m prefix \u001B[38;5;241m=\u001B[39m \u001B[38;5;124m\"\u001B[39m\u001B[38;5;124mtrain_\u001B[39m\u001B[38;5;124m\"\u001B[39m \u001B[38;5;28;01mif\u001B[39;00m trainer_fn \u001B[38;5;241m==\u001B[39m TrainerFn\u001B[38;5;241m.\u001B[39mFITTING \u001B[38;5;28;01melse\u001B[39;00m \u001B[38;5;124m\"\u001B[39m\u001B[38;5;124m\"\u001B[39m\n\u001B[1;32m    597\u001B[0m \u001B[38;5;28;01mif\u001B[39;00m dataloader \u001B[38;5;129;01mis\u001B[39;00m \u001B[38;5;28;01mNone\u001B[39;00m \u001B[38;5;129;01mand\u001B[39;00m \u001B[38;5;129;01mnot\u001B[39;00m dataloader_source\u001B[38;5;241m.\u001B[39mis_defined():\n\u001B[0;32m--> 598\u001B[0m     \u001B[38;5;28;01mraise\u001B[39;00m \u001B[38;5;167;01mValueError\u001B[39;00m(\n\u001B[1;32m    599\u001B[0m         \u001B[38;5;124mf\u001B[39m\u001B[38;5;124m\"\u001B[39m\u001B[38;5;124mAn invalid dataloader was passed to `Trainer.\u001B[39m\u001B[38;5;132;01m{\u001B[39;00mtrainer_fn\u001B[38;5;132;01m}\u001B[39;00m\u001B[38;5;124m(\u001B[39m\u001B[38;5;132;01m{\u001B[39;00mprefix\u001B[38;5;132;01m}\u001B[39;00m\u001B[38;5;124mdataloaders=...)`.\u001B[39m\u001B[38;5;124m\"\u001B[39m\n\u001B[1;32m    600\u001B[0m         \u001B[38;5;124mf\u001B[39m\u001B[38;5;124m\"\u001B[39m\u001B[38;5;124m Either pass the dataloader to the `.\u001B[39m\u001B[38;5;132;01m{\u001B[39;00mtrainer_fn\u001B[38;5;132;01m}\u001B[39;00m\u001B[38;5;124m()` method OR implement\u001B[39m\u001B[38;5;124m\"\u001B[39m\n\u001B[1;32m    601\u001B[0m         \u001B[38;5;124mf\u001B[39m\u001B[38;5;124m\"\u001B[39m\u001B[38;5;124m `def \u001B[39m\u001B[38;5;132;01m{\u001B[39;00mdataloader_source\u001B[38;5;241m.\u001B[39mname\u001B[38;5;132;01m}\u001B[39;00m\u001B[38;5;124m(self):` in your LightningModule/LightningDataModule.\u001B[39m\u001B[38;5;124m\"\u001B[39m\n\u001B[1;32m    602\u001B[0m     )\n",
      "\u001B[0;31mValueError\u001B[0m: An invalid dataloader was passed to `Trainer.test(dataloaders=...)`. Either pass the dataloader to the `.test()` method OR implement `def test_dataloader(self):` in your LightningModule/LightningDataModule."
     ]
    }
   ],
   "source": [
    "# train\n",
    "model = npClassificator.train()"
   ]
  },
  {
   "cell_type": "code",
   "execution_count": null,
   "id": "0e54f2f2",
   "metadata": {},
   "outputs": [],
   "source": []
  }
 ],
 "metadata": {
  "kernelspec": {
   "display_name": "Python 3 (ipykernel)",
   "language": "python",
   "name": "python3"
  },
  "language_info": {
   "codemirror_mode": {
    "name": "ipython",
    "version": 3
   },
   "file_extension": ".py",
   "mimetype": "text/x-python",
   "name": "python",
   "nbconvert_exporter": "python",
   "pygments_lexer": "ipython3",
   "version": "3.9.18"
  }
 },
 "nbformat": 4,
 "nbformat_minor": 5
}
