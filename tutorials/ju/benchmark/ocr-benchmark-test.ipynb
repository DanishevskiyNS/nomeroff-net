{
 "cells": [
  {
   "cell_type": "code",
   "execution_count": 4,
   "id": "b9a7419b",
   "metadata": {},
   "outputs": [],
   "source": [
    "import os\n",
    "import sys\n",
    "import copy\n",
    "import torch\n",
    "import warnings\n",
    "from datetime import datetime\n",
    "from matplotlib import pyplot as plt\n",
    "warnings.filterwarnings('ignore')\n",
    "\n",
    "# change this property\n",
    "NOMEROFF_NET_DIR = os.path.abspath('../../../')\n",
    "sys.path.append(NOMEROFF_NET_DIR)\n",
    "\n",
    "from nomeroff_net.data_loaders import TextImageGenerator\n",
    "from nomeroff_net.pipes.number_plate_text_readers.base.ocr import OCR\n",
    "from nomeroff_net.data_loaders import TextImageGenerator"
   ]
  },
  {
   "cell_type": "code",
   "execution_count": 5,
   "id": "4e7cdd80",
   "metadata": {},
   "outputs": [],
   "source": [
    "plt.rcParams[\"figure.figsize\"] = (10, 10)"
   ]
  },
  {
   "cell_type": "code",
   "execution_count": 6,
   "id": "c73e7a5b",
   "metadata": {},
   "outputs": [],
   "source": [
    "%matplotlib inline "
   ]
  },
  {
   "cell_type": "code",
   "execution_count": 7,
   "id": "42eb2c63",
   "metadata": {},
   "outputs": [],
   "source": [
    "# auto download latest dataset\n",
    "from nomeroff_net.tools import modelhub\n",
    "\n",
    "## auto download latest dataset\n",
    "#info = modelhub.download_dataset_for_model(\"Eu\")\n",
    "#PATH_TO_DATASET = info[\"dataset_path\"]\n",
    "\n",
    "# local path dataset\n",
    "PATH_TO_DATASET = os.path.join(NOMEROFF_NET_DIR, \"./data/dataset/TextDetector/ocr_example\")\n",
    "test_dir = os.path.join(PATH_TO_DATASET, \"test\")"
   ]
  },
  {
   "cell_type": "code",
   "execution_count": null,
   "id": "d43b65b1",
   "metadata": {},
   "outputs": [],
   "source": [
    "# Search model names in configs https://github.com/ria-com/nomeroff-net/blob/master/nomeroff_net/tools/mcm.py\n",
    "detector_name = \"eu_efficientnet_b2\"\n",
    "ocr = OCR(model_name=detector_name)\n",
    "ocr.load()"
   ]
  },
  {
   "cell_type": "code",
   "execution_count": 13,
   "id": "a85f1f18",
   "metadata": {},
   "outputs": [],
   "source": [
    "ocr.init_label_converter()"
   ]
  },
  {
   "cell_type": "code",
   "execution_count": 11,
   "id": "0cd88a84",
   "metadata": {},
   "outputs": [
    {
     "name": "stderr",
     "output_type": "stream",
     "text": [
      "100%|█████████████████████████████████████████████████████████████████████████████████████████████████████████████████████████████████████████████████████████████████████████████████████████████████████████████████████████████████████████████████████████████████████████████████████████████████████████| 4/4 [00:00<00:00, 40.96it/s]\n"
     ]
    }
   ],
   "source": [
    "test_image_generator = TextImageGenerator(\n",
    "    test_dir,\n",
    "    ocr.letters,\n",
    "    ocr.max_text_len,\n",
    "    img_w=ocr.width,\n",
    "    img_h=ocr.height,\n",
    "    batch_size=ocr.batch_size)"
   ]
  },
  {
   "cell_type": "code",
   "execution_count": 14,
   "id": "ea0c448b",
   "metadata": {},
   "outputs": [
    {
     "name": "stdout",
     "output_type": "stream",
     "text": [
      "\n",
      "[INFO] /mnt/var/www/projects_computer_vision/nomeroff-net/./data/dataset/TextDetector/ocr_example/test/img/0038SC-0.png\n",
      "Predicted: O38B \t\t\t True: 0038SC\n"
     ]
    },
    {
     "data": {
      "text/plain": [
       "0.75"
      ]
     },
     "execution_count": 14,
     "metadata": {},
     "output_type": "execute_result"
    }
   ],
   "source": [
    "ocr.acc_calc(test_image_generator, verbose=True)"
   ]
  },
  {
   "cell_type": "code",
   "execution_count": null,
   "id": "76adbfd3",
   "metadata": {},
   "outputs": [],
   "source": []
  },
  {
   "cell_type": "code",
   "execution_count": null,
   "id": "b2dbd982",
   "metadata": {},
   "outputs": [],
   "source": []
  }
 ],
 "metadata": {
  "kernelspec": {
   "display_name": "Python 3 (ipykernel)",
   "language": "python",
   "name": "python3"
  },
  "language_info": {
   "codemirror_mode": {
    "name": "ipython",
    "version": 3
   },
   "file_extension": ".py",
   "mimetype": "text/x-python",
   "name": "python",
   "nbconvert_exporter": "python",
   "pygments_lexer": "ipython3",
   "version": "3.9.18"
  }
 },
 "nbformat": 4,
 "nbformat_minor": 5
}
