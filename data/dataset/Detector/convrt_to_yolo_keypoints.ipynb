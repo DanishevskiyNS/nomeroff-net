{
 "cells": [
  {
   "cell_type": "code",
   "execution_count": 4,
   "id": "b70ad73a-7854-40de-8b40-939364f845e8",
   "metadata": {},
   "outputs": [],
   "source": [
    "import sys\n",
    "import os\n",
    "import json\n",
    "import ujson\n",
    "import yaml\n",
    "import shutil\n",
    "import torch\n",
    "import torch.nn as nn\n",
    "from torch.nn import functional as F\n",
    "import pytorch_lightning as pl\n",
    "import cv2\n",
    "import pandas as pd\n",
    "import numpy as np\n",
    "from torch.utils.data import DataLoader, Dataset\n",
    "import matplotlib.pyplot as plt\n",
    "\n",
    "# change this property\n",
    "NOMEROFF_NET_DIR = os.path.abspath('../../../../')\n",
    "sys.path.append(NOMEROFF_NET_DIR)"
   ]
  },
  {
   "cell_type": "code",
   "execution_count": 5,
   "id": "4faeff82-5469-4e3e-8b71-a0a7f4ae6278",
   "metadata": {},
   "outputs": [],
   "source": [
    "# Формат для однієї анотації:\n",
    "# class_id x_center y_center width height keypoint1_x keypoint1_y keypoint2_x keypoint2_y keypoint3_x keypoint3_y keypoint4_x keypoint4_y"
   ]
  },
  {
   "cell_type": "code",
   "execution_count": 6,
   "id": "a16c23f6-afab-4963-ac15-9316262280e6",
   "metadata": {},
   "outputs": [],
   "source": [
    "# auto download latest dataset\n",
    "from nomeroff_net.tools import modelhub\n",
    "from nomeroff_net.tools.image_processing import normalize_img, convert_cv_zones_rgb_to_bgr\n",
    "from nomeroff_net.tools.image_processing import (fline,\n",
    "                                                 distance,\n",
    "                                                 linear_line_matrix,\n",
    "                                                 get_y_by_matrix,\n",
    "                                                 find_distances,\n",
    "                                                 fix_clockwise2,\n",
    "                                                 find_min_x_idx,\n",
    "                                                 detect_intersection,\n",
    "                                                 reshape_points)\n",
    "\n",
    "# auto download latest dataset\n",
    "# info = modelhub.download_dataset_for_model(\"yolov8\")\n",
    "# PATH_TO_DATASET = info[\"dataset_path\"]\n",
    "\n",
    "# local path dataset\n",
    "#PATH_TO_DATASET = os.path.join(NOMEROFF_NET_DIR, \"./data/dataset/Detector/autoria_numberplate_dataset_example\")\n",
    "PATH_TO_DATASET = os.path.join(NOMEROFF_NET_DIR, \"./data/dataset/Detector/yolov8/autoriaNumberplateDataset-2024-08-16\")"
   ]
  },
  {
   "cell_type": "code",
   "execution_count": 12,
   "id": "82390e3c-26e5-413b-be24-546428cc3b9e",
   "metadata": {},
   "outputs": [],
   "source": [
    "def normalize_rect(rect):\n",
    "    \"\"\"\n",
    "    TODO: describe function\n",
    "    \"\"\"\n",
    "    rect = fix_clockwise2(rect)\n",
    "    min_x_idx = find_min_x_idx(rect)\n",
    "    rect = reshape_points(rect, min_x_idx)\n",
    "    # print(\"Start rect\")\n",
    "    # print(rect)\n",
    "    coef_ccw = fline(rect[0], rect[3])\n",
    "    angle_ccw = round(coef_ccw[2], 2)\n",
    "    d_bottom = distance(rect[0], rect[3])\n",
    "    d_left = distance(rect[0], rect[1])\n",
    "    k = d_bottom / d_left\n",
    "    if not round(rect[0][0], 4) == round(rect[1][0], 4):\n",
    "        if d_bottom < d_left:\n",
    "            k = d_left / d_bottom\n",
    "            #print(\"d_bottom < d_left\")\n",
    "            #print(\"k\", k, angle_ccw)\n",
    "            if k > 1.5 or angle_ccw > 45:\n",
    "                rect = reshape_points(rect, 3)\n",
    "        else:\n",
    "            # print(\"d_bottom >= d_left\")\n",
    "            # print(\"k\", k, angle_ccw)\n",
    "            primary_diag = distance(rect[0], rect[2])\n",
    "            secondary_diag = distance(rect[1], rect[3])\n",
    "            # print(\"primary_diag\",round(primary_diag,2))\n",
    "            # print(\"secondary_diag\", round(secondary_diag,2))\n",
    "            if k < 1.5 and (angle_ccw > 45) and (primary_diag>secondary_diag):\n",
    "                rect = reshape_points(rect, 3)\n",
    "    return rect"
   ]
  },
  {
   "cell_type": "code",
   "execution_count": 13,
   "id": "c3a839db-6578-491b-9fda-52b52d880130",
   "metadata": {},
   "outputs": [
    {
     "data": {
      "text/plain": [
       "'/mnt/store/var/www/nomeroff-net/./data/dataset/Detector/yolov8/autoriaNumberplateDataset-2024-08-16'"
      ]
     },
     "execution_count": 13,
     "metadata": {},
     "output_type": "execute_result"
    }
   ],
   "source": [
    "PATH_TO_DATASET"
   ]
  },
  {
   "cell_type": "code",
   "execution_count": 14,
   "id": "bdb8651d-a281-471b-bfdd-604b3e4a5d3f",
   "metadata": {},
   "outputs": [],
   "source": [
    "def rotate_image_by_exif(image):\n",
    "    \"\"\"\n",
    "    Rotate photo\n",
    "\n",
    "    Parameters\n",
    "    ----------\n",
    "    image\n",
    "    \"\"\"\n",
    "    try:\n",
    "        orientation = 274  # key of orientation ExifTags\n",
    "        if image._getexif() is not None:\n",
    "            exif = dict(image._getexif().items())\n",
    "            if orientation in exif.keys():\n",
    "                if exif[orientation] == 3:\n",
    "                    image = image.rotate(180, expand=True)\n",
    "                    image = ImageOps.mirror(image)\n",
    "                elif exif[orientation] == 6:\n",
    "                    image = image.rotate(270, expand=True)\n",
    "                    image = ImageOps.mirror(image)\n",
    "                elif exif[orientation] == 8:\n",
    "                    image = image.rotate(90, expand=True)\n",
    "                    image = ImageOps.mirror(image)\n",
    "    except AttributeError:\n",
    "        pass\n",
    "    return image"
   ]
  },
  {
   "cell_type": "code",
   "execution_count": 15,
   "id": "a37def94-f9c1-43c5-a1cd-d739f4cf03be",
   "metadata": {},
   "outputs": [],
   "source": [
    "import copy\n",
    "import os\n",
    "import json\n",
    "import cv2\n",
    "import torch\n",
    "import numpy as np\n",
    "import random\n",
    "from glob import glob\n",
    "from tqdm import tqdm\n",
    "from typing import List, Tuple, Generator\n",
    "from PIL import Image\n",
    "from torchvision import transforms\n",
    "from torch.utils.data import Dataset\n",
    "\n",
    "from nomeroff_net.tools.image_processing import normalize_img"
   ]
  },
  {
   "cell_type": "markdown",
   "id": "c14da7ac-d44d-426d-8495-ecd548cbcd26",
   "metadata": {},
   "source": [
    "# Val"
   ]
  },
  {
   "cell_type": "code",
   "execution_count": 16,
   "id": "8eedd729-7f5e-405a-a088-3a07f2a94f01",
   "metadata": {},
   "outputs": [
    {
     "name": "stderr",
     "output_type": "stream",
     "text": [
      "100%|██████████| 2162/2162 [00:44<00:00, 48.86it/s]\n"
     ]
    }
   ],
   "source": [
    "DEBUG = 0\n",
    "\n",
    "\n",
    "res_dataset = \"/mnt/store/var/www/nomeroff-net/nomeroff_net/tools/../../data/./dataset/Detector/yolov8/keypoints_yolo/labels/val\"\n",
    "os.makedirs(res_dataset, exist_ok=True)\n",
    "path_to_images = os.path.join(PATH_TO_DATASET, \"val\")\n",
    "\n",
    "ann_filepath = os.path.join(path_to_images, 'via_region_data.json')\n",
    "with open(ann_filepath) as ann:\n",
    "    ann_data = json.load(ann)\n",
    "image_list = ann_data\n",
    "\n",
    "img_id = 0\n",
    "corupted_images = []\n",
    "for _id, annotation in tqdm(image_list[\"_via_img_metadata\"].items()):\n",
    "    regions = annotation['regions']\n",
    "    img_filename = annotation['filename']\n",
    "    img_base, _ = os.path.splitext(img_filename)\n",
    "    yolo_annotations = []\n",
    "\n",
    "    image_id = image_list[\"_via_img_metadata\"][_id][\"filename\"]\n",
    "    filename = f'{path_to_images}/{image_id}'\n",
    "    pil_image = Image.open(filename)\n",
    "    if image_id == \"369353060-28729225.jpeg\":\n",
    "        print(\"img\", image_id, pil_image)\n",
    "    \n",
    "    \n",
    "    pil_image = rotate_image_by_exif(pil_image)\n",
    "    image = np.array(pil_image)\n",
    "    h, w, c = image.shape\n",
    "    target_boxes = []\n",
    "    labels = []\n",
    "    for region in image_list[\"_via_img_metadata\"][_id][\"regions\"]:\n",
    "        shape_attrs = region['shape_attributes']\n",
    "        all_points_x = shape_attrs['all_points_x']\n",
    "        all_points_y = shape_attrs['all_points_y']\n",
    "        if region[\"shape_attributes\"].get(\"all_points_x\", None) is None or len(region[\"shape_attributes\"][\"all_points_x\"]) != 4:\n",
    "            corupted_images.append(_id)\n",
    "            continue\n",
    "        if c == 3:\n",
    "            bbox = [\n",
    "                int(min(region[\"shape_attributes\"][\"all_points_x\"])),\n",
    "                int(min(region[\"shape_attributes\"][\"all_points_y\"])),\n",
    "                int(max(region[\"shape_attributes\"][\"all_points_x\"])),\n",
    "                int(max(region[\"shape_attributes\"][\"all_points_y\"])),\n",
    "            ]\n",
    "            x_min = min(all_points_x)\n",
    "            x_max = max(all_points_x)\n",
    "            y_min = min(all_points_y)\n",
    "            y_max = max(all_points_y)\n",
    "            bbox_width = x_max - x_min\n",
    "            bbox_height = y_max - y_min\n",
    "            x_center = x_min + bbox_width / 2\n",
    "            y_center = y_min + bbox_height / 2\n",
    "            \n",
    "            roi_img = image[bbox[1]:bbox[3], bbox[0]: bbox[2]]\n",
    "            xs = np.array([_item-bbox[0] for _item in region[\"shape_attributes\"][\"all_points_x\"]])\n",
    "            ys = np.array([_item-bbox[1] for _item in region[\"shape_attributes\"][\"all_points_y\"]])\n",
    "            \n",
    "            rect = list(zip(xs, ys))#normalize_rect()\n",
    "            xs = [item[0]+x_min for item in rect]\n",
    "            ys = [item[1]+y_min for item in rect]\n",
    "            \n",
    "            if roi_img.shape[0] and roi_img.shape[1]:\n",
    "                if DEBUG:\n",
    "                    # Відображення зображення\n",
    "                    plt.imshow(roi_img)\n",
    "                    # Нанесення ключових точок\n",
    "                    plt.scatter(xs, ys, c='red')\n",
    "                    # Підписання ключових точок\n",
    "                    for i in range(4):\n",
    "                        plt.text(xs[i], ys[i], str(i+1), \n",
    "                                 fontsize=12, color='blue')\n",
    "                    # Показати результат\n",
    "                    plt.show()\n",
    "                keypoints = []\n",
    "                for x, y in zip(xs, ys):\n",
    "                    keypoints.extend([x/w, y/h])\n",
    "                # Формат анотацій YOLO\n",
    "                class_id = 0  # Припустимо, що клас номерного знаку має індекс 0\n",
    "                yolo_annotation = [class_id, x_center/w, y_center/h, bbox_width/w, bbox_height/h] + keypoints\n",
    "                yolo_annotations.append(yolo_annotation)\n",
    "            else:\n",
    "                corupted_images.append(_id)\n",
    "        else:\n",
    "            corupted_images.append(_id)\n",
    "    # Записати анотації в файл\n",
    "    yolo_annotation_str = \"\\n\".join([\" \".join(map(str, anno)) for anno in yolo_annotations])\n",
    "    output_path = os.path.join(os.path.join(res_dataset), f\"{img_base}.txt\")\n",
    "    with open(output_path, \"w\") as f:\n",
    "        f.write(yolo_annotation_str)"
   ]
  },
  {
   "cell_type": "code",
   "execution_count": 17,
   "id": "1921437d-0e2d-470f-8c83-67d6c8ef832e",
   "metadata": {},
   "outputs": [
    {
     "data": {
      "text/plain": [
       "[]"
      ]
     },
     "execution_count": 17,
     "metadata": {},
     "output_type": "execute_result"
    }
   ],
   "source": [
    "corupted_images"
   ]
  },
  {
   "cell_type": "code",
   "execution_count": 18,
   "id": "ed93e03b-3600-46c2-b0df-3e3568e76eda",
   "metadata": {},
   "outputs": [
    {
     "name": "stderr",
     "output_type": "stream",
     "text": [
      "100%|██████████| 2162/2162 [00:00<00:00, 3366030.16it/s]\n"
     ]
    }
   ],
   "source": [
    "res_dataset = \"/mnt/store/var/www/nomeroff-net/nomeroff_net/tools/../../data/./dataset/Detector/yolov8/keypoints_yolo/labels/val\"\n",
    "os.makedirs(res_dataset, exist_ok=True)\n",
    "path_to_images = os.path.join(PATH_TO_DATASET, \"val\")\n",
    "\n",
    "ann_filepath = os.path.join(path_to_images, 'via_region_data.json')\n",
    "with open(ann_filepath) as ann:\n",
    "    ann_data = json.load(ann)\n",
    "image_list = ann_data\n",
    "\n",
    "img_id = 0\n",
    "tmp = list(image_list[\"_via_img_metadata\"].items())\n",
    "for _id, annotation in tqdm(tmp):\n",
    "    if _id not in corupted_images:\n",
    "        del image_list[\"_via_img_metadata\"][_id]"
   ]
  },
  {
   "cell_type": "code",
   "execution_count": 19,
   "id": "c11f1e6e-a0b4-4838-bc22-ad36213ef551",
   "metadata": {},
   "outputs": [
    {
     "data": {
      "text/plain": [
       "0"
      ]
     },
     "execution_count": 19,
     "metadata": {},
     "output_type": "execute_result"
    }
   ],
   "source": [
    "len(image_list[\"_via_img_metadata\"])"
   ]
  },
  {
   "cell_type": "code",
   "execution_count": 20,
   "id": "9959a283-5205-4efc-80ad-3ae52f1cdeaf",
   "metadata": {},
   "outputs": [],
   "source": [
    "with open(\"corrupted_via_region_data_val.json\", \"w\") as ann:\n",
    "    json.dump(image_list, ann)"
   ]
  },
  {
   "cell_type": "code",
   "execution_count": null,
   "id": "251a1110-b811-496a-86c8-83fe3900490b",
   "metadata": {},
   "outputs": [],
   "source": []
  },
  {
   "cell_type": "code",
   "execution_count": null,
   "id": "c535ef93-6701-4826-a3a3-67e5687a7fc2",
   "metadata": {},
   "outputs": [],
   "source": []
  },
  {
   "cell_type": "code",
   "execution_count": null,
   "id": "a7460075-143e-4af3-8026-60a2827617c5",
   "metadata": {},
   "outputs": [],
   "source": []
  },
  {
   "cell_type": "code",
   "execution_count": 21,
   "id": "8ba23bdb-c3b9-4d0a-9b1a-f14580cc17f7",
   "metadata": {
    "scrolled": true
   },
   "outputs": [
    {
     "name": "stderr",
     "output_type": "stream",
     "text": [
      " 56%|█████▌    | 5233/9307 [01:43<01:43, 39.47it/s]/usr/local/lib64/python3.9/site-packages/PIL/TiffImagePlugin.py:819: UserWarning: Corrupt EXIF data.  Expecting to read 2 bytes but only got 0. \n",
      "  warnings.warn(str(msg))\n",
      "100%|██████████| 9307/9307 [03:12<00:00, 48.37it/s]\n"
     ]
    }
   ],
   "source": [
    "DEBUG = 0\n",
    "\n",
    "\n",
    "res_dataset = \"/mnt/store/var/www/nomeroff-net/nomeroff_net/tools/../../data/./dataset/Detector/yolov8/keypoints_yolo/labels/train\"\n",
    "os.makedirs(res_dataset, exist_ok=True)\n",
    "path_to_images = os.path.join(PATH_TO_DATASET, \"train\")\n",
    "\n",
    "ann_filepath = os.path.join(path_to_images, 'via_region_data.json')\n",
    "with open(ann_filepath) as ann:\n",
    "    ann_data = json.load(ann)\n",
    "image_list = ann_data\n",
    "\n",
    "img_id = 0\n",
    "corupted_train_images = []\n",
    "for _id, annotation in tqdm(image_list[\"_via_img_metadata\"].items()):\n",
    "    regions = annotation['regions']\n",
    "    img_filename = annotation['filename']\n",
    "    img_base, _ = os.path.splitext(img_filename)\n",
    "    yolo_annotations = []\n",
    "\n",
    "    image_id = image_list[\"_via_img_metadata\"][_id][\"filename\"]\n",
    "    filename = f'{path_to_images}/{image_id}'\n",
    "    \n",
    "    pil_image = Image.open(filename)\n",
    "    pil_image = rotate_image_by_exif(pil_image)\n",
    "    image = np.array(pil_image)\n",
    "    h, w, c = image.shape\n",
    "    target_boxes = []\n",
    "    labels = []\n",
    "    for region in image_list[\"_via_img_metadata\"][_id][\"regions\"]:\n",
    "        shape_attrs = region['shape_attributes']\n",
    "        if region[\"shape_attributes\"].get(\"all_points_x\", None) is None or len(region[\"shape_attributes\"][\"all_points_x\"]) != 4:\n",
    "            corupted_train_images.append(_id)\n",
    "            continue\n",
    "        all_points_x = shape_attrs['all_points_x']\n",
    "        all_points_y = shape_attrs['all_points_y']\n",
    "        if c == 3:\n",
    "            bbox = [\n",
    "                int(min(region[\"shape_attributes\"][\"all_points_x\"])),\n",
    "                int(min(region[\"shape_attributes\"][\"all_points_y\"])),\n",
    "                int(max(region[\"shape_attributes\"][\"all_points_x\"])),\n",
    "                int(max(region[\"shape_attributes\"][\"all_points_y\"])),\n",
    "            ]\n",
    "            x_min = min(all_points_x)\n",
    "            x_max = max(all_points_x)\n",
    "            y_min = min(all_points_y)\n",
    "            y_max = max(all_points_y)\n",
    "            bbox_width = x_max - x_min\n",
    "            bbox_height = y_max - y_min\n",
    "            x_center = x_min + bbox_width / 2\n",
    "            y_center = y_min + bbox_height / 2\n",
    "            \n",
    "            roi_img = image[bbox[1]:bbox[3], bbox[0]: bbox[2]]\n",
    "            xs = np.array([_item-bbox[0] for _item in region[\"shape_attributes\"][\"all_points_x\"]])\n",
    "            ys = np.array([_item-bbox[1] for _item in region[\"shape_attributes\"][\"all_points_y\"]])\n",
    "            \n",
    "            rect = list(zip(xs, ys))  # normalize_rect(list(zip(xs, ys)))\n",
    "            xs = [item[0]+x_min for item in rect]\n",
    "            ys = [item[1]+y_min for item in rect]\n",
    "            \n",
    "            if roi_img.shape[0] and roi_img.shape[1]:\n",
    "                if DEBUG:\n",
    "                    # Відображення зображення\n",
    "                    plt.imshow(roi_img)\n",
    "                    # Нанесення ключових точок\n",
    "                    plt.scatter(xs, ys, c='red')\n",
    "                    # Підписання ключових точок\n",
    "                    for i in range(4):\n",
    "                        plt.text(xs[i], ys[i], str(i+1), \n",
    "                                 fontsize=12, color='blue')\n",
    "                    # Показати результат\n",
    "                    plt.show()\n",
    "                keypoints = []\n",
    "                for x, y in zip(xs, ys):\n",
    "                    keypoints.extend([x/w, y/h])\n",
    "                # Формат анотацій YOLO\n",
    "                class_id = 0  # Припустимо, що клас номерного знаку має індекс 0\n",
    "                yolo_annotation = [class_id, x_center/w, y_center/h, bbox_width/w, bbox_height/h] + keypoints\n",
    "                yolo_annotations.append(yolo_annotation)\n",
    "            else:\n",
    "                corupted_train_images.append(_id)\n",
    "        else:\n",
    "            corupted_train_images.append(_id)\n",
    "    # Записати анотації в файл\n",
    "    yolo_annotation_str = \"\\n\".join([\" \".join(map(str, anno)) for anno in yolo_annotations])\n",
    "    output_path = os.path.join(os.path.join(res_dataset), f\"{img_base}.txt\")\n",
    "    with open(output_path, \"w\") as f:\n",
    "        f.write(yolo_annotation_str)"
   ]
  },
  {
   "cell_type": "code",
   "execution_count": 22,
   "id": "5945c888-b17a-4b6f-af65-61f304cfb3b5",
   "metadata": {},
   "outputs": [
    {
     "data": {
      "text/plain": [
       "[]"
      ]
     },
     "execution_count": 22,
     "metadata": {},
     "output_type": "execute_result"
    }
   ],
   "source": [
    "corupted_train_images"
   ]
  },
  {
   "cell_type": "code",
   "execution_count": 23,
   "id": "177a4519-af78-488e-8c5f-0715bce65e93",
   "metadata": {},
   "outputs": [],
   "source": [
    "# res_dataset = \"/mnt/store/var/www/nomeroff-net/nomeroff_net/tools/../../data/./dataset/Detector/yolov8/keypoints_yolo/labels/train\"\n",
    "# os.makedirs(res_dataset, exist_ok=True)\n",
    "# path_to_images = os.path.join(PATH_TO_DATASET, \"train\")\n",
    "\n",
    "# ann_filepath = os.path.join(path_to_images, 'via_region_data.json')\n",
    "# with open(ann_filepath) as ann:\n",
    "#     ann_data = json.load(ann)\n",
    "# image_list = ann_data\n",
    "\n",
    "# img_id = 0\n",
    "# tmp = list(image_list[\"_via_img_metadata\"].items())\n",
    "# for _id, annotation in tqdm(tmp):\n",
    "#     if _id not in corupted_train_images:\n",
    "#         del image_list[\"_via_img_metadata\"][_id]"
   ]
  },
  {
   "cell_type": "code",
   "execution_count": 24,
   "id": "66b3d5fb-536b-4d24-8a45-ff41c0ed9229",
   "metadata": {},
   "outputs": [],
   "source": [
    "# len(image_list[\"_via_img_metadata\"])"
   ]
  },
  {
   "cell_type": "code",
   "execution_count": 25,
   "id": "2172362e-0129-441b-9b1d-adaaf5e544e6",
   "metadata": {},
   "outputs": [],
   "source": [
    "with open(\"corrupted_via_region_data_train.json\", \"w\") as ann:\n",
    "    json.dump(image_list, ann)"
   ]
  },
  {
   "cell_type": "code",
   "execution_count": null,
   "id": "581e208d-54a1-4018-b85b-397d3ddc89a8",
   "metadata": {},
   "outputs": [],
   "source": []
  }
 ],
 "metadata": {
  "kernelspec": {
   "display_name": "Python 3 (ipykernel)",
   "language": "python",
   "name": "python3"
  },
  "language_info": {
   "codemirror_mode": {
    "name": "ipython",
    "version": 3
   },
   "file_extension": ".py",
   "mimetype": "text/x-python",
   "name": "python",
   "nbconvert_exporter": "python",
   "pygments_lexer": "ipython3",
   "version": "3.9.19"
  }
 },
 "nbformat": 4,
 "nbformat_minor": 5
}
